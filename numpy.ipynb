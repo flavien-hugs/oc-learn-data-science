{
 "cells": [
  {
   "cell_type": "code",
   "execution_count": 2,
   "id": "80d1fe42-cc5a-4637-bb8e-8586ee784dc2",
   "metadata": {
    "ExecuteTime": {
     "end_time": "2025-02-13T11:07:30.185187Z",
     "start_time": "2025-02-13T11:07:30.152180Z"
    },
    "editable": true,
    "slideshow": {
     "slide_type": ""
    },
    "tags": []
   },
   "outputs": [
    {
     "name": "stdout",
     "output_type": "stream",
     "text": [
      "Array : [1800 1500 2200 3000 2172 5000 1400 1200 1100 1300]\n",
      "Ensemble des revenus supérieurs ou égal à 3000€:  [3000 5000]\n",
      "La somme des revenus annuelle est: 248064 €\n",
      "La somme des revenus annuelle est: 248 K€\n",
      "La somme des revenus annuelle est: 0.25 M€\n",
      "La moyenne des revenus mensuelle est: 2067.2 €\n",
      "Array avant: [1800 1500 2200 3000 2172 5000 1400 1200 1100 1300]\n",
      "Array après: [1800 1500 2200 3000 2172 5000 1600 1200 1100 1300]\n"
     ]
    }
   ],
   "source": [
    "import numpy as np\n",
    "\n",
    "liste = [1800, 1500, 2200, 3000, 2172, 5000, 1400, 1200, 1100, 1300]\n",
    "\n",
    "# Créer un array que vous nommerez revenus\n",
    "revenus = np.array(liste)\n",
    "print(\"Array :\", revenus)\n",
    "\n",
    "# Créer un nouvel array haut_revenus dans lequel vous sélectionnerez l'ensemble des revenus supérieurs ou égal à 3000€\n",
    "haut_revenus = revenus[revenus >= 3_000]\n",
    "print(\"Ensemble des revenus supérieurs ou égal à 3000€: \", haut_revenus)\n",
    "\n",
    "# calculer la somme des revenus annuelle. Pour rappel, les revenus listés ci dessus sont mensuels.\n",
    "somme = revenus.sum() * 12\n",
    "print(\"La somme des revenus annuelle est:\", somme, \"€\")\n",
    "\n",
    "somme_k = round(somme / 1000)\n",
    "print(\"La somme des revenus annuelle est:\", somme_k, \"K€\")\n",
    "\n",
    "somme_m = round((somme / 1_000_000), 2)\n",
    "print(\"La somme des revenus annuelle est:\", somme_m, \"M€\")\n",
    "\n",
    "# calculer la moyenne des revenus des 10 clients\n",
    "moyenne = revenus.mean()\n",
    "print(\"La moyenne des revenus mensuelle est:\", moyenne, \"€\")\n",
    "\n",
    "# Un de nos clients (dont les revenus mensuels s'élevaient jusque là à 1400€) vient de nous annoncer qu'il venait\n",
    "# d'obtenir une promotion. Grâce à cette dernière, il a gagné 200€ sur son salaire mensuel.\n",
    "# Effectuez cette modification au sein de votre array revenus.\n",
    "\n",
    "print(\"Array avant:\", revenus)\n",
    "revenus[revenus == 1400] += 200\n",
    "print(\"Array après:\", revenus)"
   ]
  },
  {
   "cell_type": "code",
   "execution_count": 22,
   "id": "3c988b5b-9adb-49ea-a556-0642d2b9bdee",
   "metadata": {},
   "outputs": [
    {
     "data": {
      "text/plain": [
       "array([[1., 1., 1.],\n",
       "       [1., 1., 1.],\n",
       "       [1., 1., 1.],\n",
       "       [1., 1., 1.]])"
      ]
     },
     "execution_count": 22,
     "metadata": {},
     "output_type": "execute_result"
    }
   ],
   "source": [
    "# Un tableau de 4 lignes et 3 colonnes rempli de 1\n",
    "np.ones((4, 3))"
   ]
  },
  {
   "cell_type": "code",
   "execution_count": 23,
   "id": "df07c383-57fd-4597-9d68-b68f86384a9e",
   "metadata": {},
   "outputs": [
    {
     "data": {
      "text/plain": [
       "array([[0., 0., 0., 0.],\n",
       "       [0., 0., 0., 0.],\n",
       "       [0., 0., 0., 0.],\n",
       "       [0., 0., 0., 0.]])"
      ]
     },
     "execution_count": 23,
     "metadata": {},
     "output_type": "execute_result"
    }
   ],
   "source": [
    "# Un tableau de 4 lignes et de 4 colonnes contenant que des 0\n",
    "np.zeros((4, 4))"
   ]
  },
  {
   "cell_type": "code",
   "execution_count": 24,
   "id": "a4519b7f-278f-46fc-9fc1-21c3948eef7c",
   "metadata": {},
   "outputs": [
    {
     "data": {
      "text/plain": [
       "array([[0.41908681, 0.98319206, 0.29762875],\n",
       "       [0.87377529, 0.06268155, 0.42912021],\n",
       "       [0.26500671, 0.57081239, 0.69639389],\n",
       "       [0.02475266, 0.54142051, 0.96826976]])"
      ]
     },
     "execution_count": 24,
     "metadata": {},
     "output_type": "execute_result"
    }
   ],
   "source": [
    "# un tableau de 4 lignes et 3 colonnes rempli de valeurs aléatoires comprises entre 0 et 1\n",
    "np.random.random((4, 3))"
   ]
  },
  {
   "cell_type": "code",
   "execution_count": 26,
   "id": "f1413539-2140-4813-bd99-20186b1de392",
   "metadata": {},
   "outputs": [
    {
     "data": {
      "text/plain": [
       "array([[5, 1, 4, 6, 3],\n",
       "       [3, 1, 4, 6, 5],\n",
       "       [6, 8, 9, 9, 3]])"
      ]
     },
     "execution_count": 26,
     "metadata": {},
     "output_type": "execute_result"
    }
   ],
   "source": [
    "# un tableau de 3x3 rempli de valeurs aléatoires entières, comprises entre 1 et 10\n",
    "np.random.randint(1, 10, size=(3, 5))"
   ]
  },
  {
   "cell_type": "code",
   "execution_count": 28,
   "id": "596b9441-863f-498d-9b3a-9af1c26670c6",
   "metadata": {},
   "outputs": [
    {
     "name": "stdout",
     "output_type": "stream",
     "text": [
      "Informations de Paul :\n",
      "[2172   37    2]\n",
      "-\n",
      "Ses mensualités maximales sont de : 760.2 €\n",
      "[1800 1500 2200 3000 2172 5000 1400 1200 1100 1300]\n"
     ]
    }
   ],
   "source": [
    "# Transformer des donnees en tableaux\n",
    "# L'ensemble des ces informations sont rassemblées dans la liste tableau suivante:\n",
    "\n",
    "hugo = [1800, 21, 0]\n",
    "richard = [1500, 54, 2]\n",
    "emilie = [2200, 28, 3]\n",
    "pierre = [3000, 37, 1]\n",
    "paul = [2172, 37, 2]\n",
    "deborah = [5000, 32, 0]\n",
    "yohann = [1400, 23, 0]\n",
    "anne = [1200, 25, 1]\n",
    "thibault = [1100, 19, 0]\n",
    "emmanuel = [1300, 31, 2]\n",
    "\n",
    "tableau = [hugo, richard, emilie, pierre, paul, deborah, yohann, anne, thibault, emmanuel]\n",
    "\n",
    "# A partir de cette liste, créez un array que vous nommerez data :\n",
    "data = np.array(tableau)\n",
    "\n",
    "# Paul souhaiterait contracter un prêt immobilier, affichez les informations qui lui sont relatives.\n",
    "# Pour rappel, Paul correspond à la 5ème ligne de nos données\n",
    "\n",
    "print(\"Informations de Paul :\")\n",
    "print(data[4, :])\n",
    "print(\"-\")\n",
    "print(\"Ses mensualités maximales sont de :\", round(data[4, 0] * 0.35, 2), \"€\")\n",
    "\n",
    "# Un nouveau client vient d'arriver, dont les informations sont les suivantes :\n",
    "louise = [1900, 31, 1]\n",
    "\n",
    "# Ajoutez ces informations à la suite de votre array data :\n",
    "np.vstack((data, louise))\n",
    "\n",
    "# Stockez enfin l'ensemble des informations de salaire de notre clientèle dans une variable revenus :\n",
    "revenus = data[:, 0]\n",
    "print(revenus)"
   ]
  },
  {
   "cell_type": "code",
   "execution_count": 34,
   "id": "a2aa53de-3322-4f93-9f1f-317bf89b3857",
   "metadata": {},
   "outputs": [
    {
     "name": "stdout",
     "output_type": "stream",
     "text": [
      "[9.  9.5]\n",
      "[ 6.  8. 10.]\n"
     ]
    }
   ],
   "source": [
    "a = np.linspace(5, 10, 11)\n",
    "print(a[-3:-1])\n",
    "b = a[a % 2 == 0]\n",
    "print(b)"
   ]
  },
  {
   "cell_type": "code",
   "execution_count": 36,
   "id": "050e61a8-0994-4bf0-8123-51c6e0c26e7c",
   "metadata": {},
   "outputs": [
    {
     "name": "stdout",
     "output_type": "stream",
     "text": [
      "[[[ 1  2]\n",
      "  [ 4  5]]\n",
      "\n",
      " [[ 6  7]\n",
      "  [ 8  9]]\n",
      "\n",
      " [[10 11]\n",
      "  [12 13]]]\n"
     ]
    }
   ],
   "source": [
    "da = np.array([[[1, 2],[4, 5]],\n",
    "        [[6, 7],[8, 9]],\n",
    "        [[10, 11],[12, 13]]])\n",
    "\n",
    "print(da)"
   ]
  },
  {
   "cell_type": "code",
   "execution_count": 40,
   "id": "517673c7-a8b6-4a53-bfc2-ee0044f10d28",
   "metadata": {},
   "outputs": [
    {
     "data": {
      "text/plain": [
       "array([[[ 1,  2,  4]],\n",
       "\n",
       "       [[ 5,  6,  7]],\n",
       "\n",
       "       [[ 8,  9, 10]],\n",
       "\n",
       "       [[11, 12, 13]]])"
      ]
     },
     "execution_count": 40,
     "metadata": {},
     "output_type": "execute_result"
    }
   ],
   "source": [
    "da.reshape([4, 1, 3])"
   ]
  },
  {
   "cell_type": "code",
   "execution_count": 42,
   "id": "b01f595a-59f3-4700-8a15-a34ecc619922",
   "metadata": {},
   "outputs": [
    {
     "data": {
      "text/plain": [
       "array([[10, 11],\n",
       "       [12, 13]])"
      ]
     },
     "execution_count": 42,
     "metadata": {},
     "output_type": "execute_result"
    }
   ],
   "source": [
    "da[2, :, :]"
   ]
  },
  {
   "cell_type": "code",
   "execution_count": 43,
   "id": "b649c8dd-096f-481a-a071-ddc4fd91b814",
   "metadata": {},
   "outputs": [
    {
     "data": {
      "text/plain": [
       "array([0, 1, 2, 3, 4, 5, 6, 7])"
      ]
     },
     "execution_count": 43,
     "metadata": {},
     "output_type": "execute_result"
    }
   ],
   "source": [
    "np.arange(0, 8, 1)"
   ]
  },
  {
   "cell_type": "code",
   "execution_count": null,
   "id": "41fdbc32-7de6-4db2-a397-61b1733f50e2",
   "metadata": {},
   "outputs": [],
   "source": []
  }
 ],
 "metadata": {
  "kernelspec": {
   "display_name": "Python 3 (ipykernel)",
   "language": "python",
   "name": "python3"
  },
  "language_info": {
   "codemirror_mode": {
    "name": "ipython",
    "version": 3
   },
   "file_extension": ".py",
   "mimetype": "text/x-python",
   "name": "python",
   "nbconvert_exporter": "python",
   "pygments_lexer": "ipython3",
   "version": "3.12.7"
  }
 },
 "nbformat": 4,
 "nbformat_minor": 5
}
